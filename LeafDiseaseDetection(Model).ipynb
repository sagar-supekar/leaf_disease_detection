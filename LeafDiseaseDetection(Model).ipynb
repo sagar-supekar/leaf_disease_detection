{
  "cells": [
    {
      "cell_type": "code",
      "execution_count": null,
      "metadata": {
        "colab": {
          "base_uri": "https://localhost:8080/"
        },
        "id": "zYXOSoQ3mrpI",
        "outputId": "bb7feef3-0bd9-45cd-a94f-5591f58dc38a"
      },
      "outputs": [
        {
          "output_type": "stream",
          "name": "stdout",
          "text": [
            "--2023-05-16 06:48:46--  https://www.dropbox.com/s/241p0ooxybbkzpq/archive.zip?dl=0\n",
            "Resolving www.dropbox.com (www.dropbox.com)... 162.125.65.18, 2620:100:6022:18::a27d:4212\n",
            "Connecting to www.dropbox.com (www.dropbox.com)|162.125.65.18|:443... connected.\n",
            "HTTP request sent, awaiting response... 302 Found\n",
            "Location: /s/raw/241p0ooxybbkzpq/archive.zip [following]\n",
            "--2023-05-16 06:48:46--  https://www.dropbox.com/s/raw/241p0ooxybbkzpq/archive.zip\n",
            "Reusing existing connection to www.dropbox.com:443.\n",
            "HTTP request sent, awaiting response... 302 Found\n",
            "Location: https://ucbebeab45e1f63a815fdf5b4c96.dl.dropboxusercontent.com/cd/0/inline/B8Kg1OL8AwMmmnaPH4BlgpQOjgETzzZ1RIzIp1uUVlBcG3EN5jbZs9yKVweCcE19nAebWQp-bPESAYdZxD3czWw56j3UfMUo0VrpnFWbl2AD612R6xBpEZ48Ya8En1TZtCA242teoXoeqv1DI8JmgoizIDFPvd22hmwcvSF0inm3lw/file# [following]\n",
            "--2023-05-16 06:48:47--  https://ucbebeab45e1f63a815fdf5b4c96.dl.dropboxusercontent.com/cd/0/inline/B8Kg1OL8AwMmmnaPH4BlgpQOjgETzzZ1RIzIp1uUVlBcG3EN5jbZs9yKVweCcE19nAebWQp-bPESAYdZxD3czWw56j3UfMUo0VrpnFWbl2AD612R6xBpEZ48Ya8En1TZtCA242teoXoeqv1DI8JmgoizIDFPvd22hmwcvSF0inm3lw/file\n",
            "Resolving ucbebeab45e1f63a815fdf5b4c96.dl.dropboxusercontent.com (ucbebeab45e1f63a815fdf5b4c96.dl.dropboxusercontent.com)... 162.125.2.15, 2620:100:6022:15::a27d:420f\n",
            "Connecting to ucbebeab45e1f63a815fdf5b4c96.dl.dropboxusercontent.com (ucbebeab45e1f63a815fdf5b4c96.dl.dropboxusercontent.com)|162.125.2.15|:443... connected.\n",
            "HTTP request sent, awaiting response... 302 Found\n",
            "Location: /cd/0/inline2/B8KgyUk3nV09J8MsQWu05J5y-j8CYRrcIgsh3rSg6yybXVm09F3jNtIi8VB49DkjS_kUK5kQleWCi9mCwFv3t-q-tPcG-cKEfylMfArAwghqc1bVPsH3C4me2ZjjGXBs2nGLa2RYOr5F8oKgmmkqfp-3yZAE4nOktFZ7cJ5SYPtswoIRk612a3X3DHCadHKcHaE4UIBxwwbQpZKJa1LG_mLR2BQkgQU5qz97CKpHC_japZiYHn8_saLrWwMiqfZeba_XvmuLNnaXFRhIWHnlEd99NdvzrkILnhBO2gUqAGAFgeXSNoRZxN9bSO4ihxlVBekE1ZVAgPRTyp801QuPsQg8ovDsss0gmLC731U0DY_iUsXUFkurCExVqDe2lSz-PkDWmHQ3Ziq3RTWVekonzvPdAa6pE4SRxjXWC9mXKPv8zg/file [following]\n",
            "--2023-05-16 06:48:48--  https://ucbebeab45e1f63a815fdf5b4c96.dl.dropboxusercontent.com/cd/0/inline2/B8KgyUk3nV09J8MsQWu05J5y-j8CYRrcIgsh3rSg6yybXVm09F3jNtIi8VB49DkjS_kUK5kQleWCi9mCwFv3t-q-tPcG-cKEfylMfArAwghqc1bVPsH3C4me2ZjjGXBs2nGLa2RYOr5F8oKgmmkqfp-3yZAE4nOktFZ7cJ5SYPtswoIRk612a3X3DHCadHKcHaE4UIBxwwbQpZKJa1LG_mLR2BQkgQU5qz97CKpHC_japZiYHn8_saLrWwMiqfZeba_XvmuLNnaXFRhIWHnlEd99NdvzrkILnhBO2gUqAGAFgeXSNoRZxN9bSO4ihxlVBekE1ZVAgPRTyp801QuPsQg8ovDsss0gmLC731U0DY_iUsXUFkurCExVqDe2lSz-PkDWmHQ3Ziq3RTWVekonzvPdAa6pE4SRxjXWC9mXKPv8zg/file\n",
            "Reusing existing connection to ucbebeab45e1f63a815fdf5b4c96.dl.dropboxusercontent.com:443.\n",
            "HTTP request sent, awaiting response... 200 OK\n",
            "Length: 2897709187 (2.7G) [application/zip]\n",
            "Saving to: ‘archive.zip?dl=0’\n",
            "\n",
            "archive.zip?dl=0     34%[=====>              ] 954.96M  20.0MB/s    eta 97s    "
          ]
        }
      ],
      "source": [
        "!wget https://www.dropbox.com/s/241p0ooxybbkzpq/archive.zip?dl=0"
      ]
    },
    {
      "cell_type": "code",
      "execution_count": null,
      "metadata": {
        "id": "G52Ztb9Ungjh"
      },
      "outputs": [],
      "source": [
        "!unzip archive.zip\\?dl\\=0"
      ]
    },
    {
      "cell_type": "code",
      "execution_count": null,
      "metadata": {
        "id": "30Wqt-gYorpP"
      },
      "outputs": [],
      "source": [
        "import numpy as np\n",
        "import pandas as pd\n",
        "import matplotlib.pyplot as plt\n",
        "import os\n",
        "len(os.listdir(\"/content/New Plant Diseases Dataset(Augmented)/New Plant Diseases Dataset(Augmented)/train\"))"
      ]
    },
    {
      "cell_type": "code",
      "execution_count": null,
      "metadata": {
        "id": "yzYpwQkRpPBP"
      },
      "outputs": [],
      "source": [
        "import keras\n",
        "\n",
        "from keras.preprocessing.image import ImageDataGenerator, img_to_array, load_img\n",
        "from keras.applications.vgg19 import VGG19 , preprocess_input , decode_predictions"
      ]
    },
    {
      "cell_type": "code",
      "execution_count": null,
      "metadata": {
        "id": "gtY-0c8sp61B"
      },
      "outputs": [],
      "source": [
        "train_datagen = ImageDataGenerator(zoom_range= 0.5 ,shear_range = 0.3 ,horizontal_flip= True,preprocessing_function = preprocess_input )\n",
        "val_datagen = ImageDataGenerator(preprocessing_function = preprocess_input )"
      ]
    },
    {
      "cell_type": "code",
      "execution_count": null,
      "metadata": {
        "id": "dNU-teTlqpZn"
      },
      "outputs": [],
      "source": [
        "train = train_datagen.flow_from_directory(directory = \"/content/New Plant Diseases Dataset(Augmented)/New Plant Diseases Dataset(Augmented)/train\",target_size = (256,256),batch_size=32)\n",
        "\n",
        "val = val_datagen.flow_from_directory(directory = \"/content/New Plant Diseases Dataset(Augmented)/New Plant Diseases Dataset(Augmented)/valid\",target_size = (256,256),batch_size=32)\n",
        "\n"
      ]
    },
    {
      "cell_type": "code",
      "execution_count": null,
      "metadata": {
        "id": "M6PAxuoJuCjR"
      },
      "outputs": [],
      "source": [
        "t_img,label = train.next ()"
      ]
    },
    {
      "cell_type": "code",
      "execution_count": null,
      "metadata": {
        "id": "X6KFffwjuLXX"
      },
      "outputs": [],
      "source": [
        "t_img.shape"
      ]
    },
    {
      "cell_type": "code",
      "execution_count": null,
      "metadata": {
        "id": "DjLvxwnZqSSI"
      },
      "outputs": [],
      "source": [
        "def plotImage(img_arr , label ):\n",
        "\n",
        "  for im , l in zip(img_arr, label):\n",
        "    plt.figure (figsize=(5,5))\n",
        "    plt.imshow(im)\n",
        "    plt.show()\n"
      ]
    },
    {
      "cell_type": "code",
      "execution_count": null,
      "metadata": {
        "id": "g5WuzP2xvLpP"
      },
      "outputs": [],
      "source": [
        "plotImage(t_img[:3], label[:3])"
      ]
    },
    {
      "cell_type": "markdown",
      "metadata": {
        "id": "CZyoJdH4whvR"
      },
      "source": [
        "building our model"
      ]
    },
    {
      "cell_type": "code",
      "execution_count": null,
      "metadata": {
        "id": "P5YffUQmwU-9"
      },
      "outputs": [],
      "source": [
        "from keras.layers import Dense, Flatten \n",
        "from keras.models import Model\n",
        "from keras.applications.vgg19 import VGG19\n",
        "import keras"
      ]
    },
    {
      "cell_type": "code",
      "execution_count": null,
      "metadata": {
        "id": "cIP23B5YxrOK"
      },
      "outputs": [],
      "source": [
        "base_model = VGG19(input_shape = (256,256,3), include_top = False )\n"
      ]
    },
    {
      "cell_type": "code",
      "execution_count": null,
      "metadata": {
        "id": "YlL2llAwyWVx"
      },
      "outputs": [],
      "source": [
        "for layer in base_model.layers:\n",
        "  layer.trainable = False"
      ]
    },
    {
      "cell_type": "code",
      "execution_count": null,
      "metadata": {
        "id": "_Lpa4lkBymq8"
      },
      "outputs": [],
      "source": [
        "base_model.summary()"
      ]
    },
    {
      "cell_type": "code",
      "execution_count": null,
      "metadata": {
        "id": "8oh3rV5TzNOp"
      },
      "outputs": [],
      "source": [
        "X = Flatten()(base_model.output)\n",
        "X = Dense (units = 38,activation = 'softmax')(X)\n",
        "\n",
        "#creating our model\n",
        "model = Model(base_model.input,X)"
      ]
    },
    {
      "cell_type": "code",
      "execution_count": null,
      "metadata": {
        "id": "DAjc-3LLzzvx"
      },
      "outputs": [],
      "source": [
        "model.summary()"
      ]
    },
    {
      "cell_type": "code",
      "execution_count": null,
      "metadata": {
        "id": "X6iFok1caStX"
      },
      "outputs": [],
      "source": [
        "model.compile(optimizer='adam',loss= keras.losses.categorical_crossentropy,metrics=['accuracy'])"
      ]
    },
    {
      "cell_type": "markdown",
      "metadata": {
        "id": "frVrK9ho0PAH"
      },
      "source": [
        "early stopping and model check point"
      ]
    },
    {
      "cell_type": "code",
      "execution_count": null,
      "metadata": {
        "id": "mr8YGdO40gxe"
      },
      "outputs": [],
      "source": [
        "from keras.callbacks import ModelCheckpoint, EarlyStopping\n",
        "#early stopping\n",
        "es= EarlyStopping(monitor = 'val_accuracy', min_delta = 0.01 , patience = 3, verbose = 1)\n",
        "#Model Checkpoint\n",
        "mc = ModelCheckpoint ( filepath=\" best_model.h5\",\n",
        "                      monitor='val_accuracy',\n",
        "                      min_deelta=0.01,\n",
        "                      patience=2,\n",
        "                      verbose=1,\n",
        "                      save_best_only= True)\n",
        "cb = [ es, mc]\n",
        "\n"
      ]
    },
    {
      "cell_type": "code",
      "execution_count": null,
      "metadata": {
        "id": "xBXR4ceobd-v"
      },
      "outputs": [],
      "source": [
        "his = model.fit_generator(train ,\n",
        "                          steps_per_epoch=16,\n",
        "                          epochs=50,\n",
        "                          verbose=1,\n",
        "                          callbacks=cb,\n",
        "                          validation_data=val,\n",
        "                          validation_steps=16 )"
      ]
    },
    {
      "cell_type": "code",
      "execution_count": null,
      "metadata": {
        "id": "55M3bspMNIQK"
      },
      "outputs": [],
      "source": [
        "h= his.history\n",
        "h.keys()\n"
      ]
    },
    {
      "cell_type": "code",
      "execution_count": null,
      "metadata": {
        "id": "ptCc7wfXOacj"
      },
      "outputs": [],
      "source": [
        "plt.plot(h['accuracy'])\n",
        "plt.plot(h['val_accuracy'], c = \"red\")\n",
        "\n",
        "plt.title(\"acc vs v-acc\")\n",
        "plt.show()"
      ]
    },
    {
      "cell_type": "code",
      "execution_count": null,
      "metadata": {
        "id": "CqwAyglXP7JV"
      },
      "outputs": [],
      "source": [
        "plt.plot(h['loss'])\n",
        "plt.plot(h['val_loss'], c = \"red\")\n",
        "\n",
        "plt.title(\"loss vs v-loss\")\n",
        "plt.show()"
      ]
    },
    {
      "cell_type": "code",
      "execution_count": null,
      "metadata": {
        "id": "Okip-mAfRjc4"
      },
      "outputs": [],
      "source": [
        "#load best model\n",
        "from keras.models import load_model\n",
        "model= load_model(\"/content/ best_model.h5\")"
      ]
    },
    {
      "cell_type": "code",
      "execution_count": null,
      "metadata": {
        "id": "73p7v5RVR1Uk"
      },
      "outputs": [],
      "source": [
        "acc = model.evaluate_generator(val)[1]\n",
        "print(f\"The accuracy of your model is = {acc*100} %\")"
      ]
    }
  ],
  "metadata": {
    "colab": {
      "provenance": [],
      "gpuType": "T4"
    },
    "kernelspec": {
      "display_name": "Python 3",
      "name": "python3"
    },
    "language_info": {
      "name": "python"
    },
    "accelerator": "GPU",
    "gpuClass": "standard"
  },
  "nbformat": 4,
  "nbformat_minor": 0
}